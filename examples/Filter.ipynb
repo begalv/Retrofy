{
 "cells": [
  {
   "cell_type": "code",
   "execution_count": 10,
   "metadata": {},
   "outputs": [],
   "source": [
    "#imports\n",
    "from retrofy import VHS"
   ]
  },
  {
   "cell_type": "code",
   "execution_count": 8,
   "metadata": {},
   "outputs": [],
   "source": [
    "#ways to create the VHS object (Filter)\n",
    "\n",
    "#through a path for images stored locally\n",
    "retrofier = VHS(\"../docs/images/before.jpg\")\n",
    "\n",
    "#through an URL for images on the web\n",
    "retrofier = VHS(\"https://images.unsplash.com/photo-1532673492-1b3cdb05d51b?ixid=MXwxMjA3fDB8MHxwaG90by1wYWdlfHx8fGVufDB8fHw%3D&ixlib=rb-1.2.1&auto=format&fit=crop&w=1267&q=80\")\n",
    "\n",
    "#or through an alredy existing Pillow Image Object\n",
    "from PIL import Image\n",
    "img = Image.open(\"../docs/images/before.jpg\")\n",
    "retrofier = VHS(img)"
   ]
  },
  {
   "cell_type": "code",
   "execution_count": 12,
   "metadata": {},
   "outputs": [],
   "source": [
    "#ways to access the filter's images\n",
    "\n",
    "#original image\n",
    "original = retrofier.original_img #PIL Image object\n",
    "\n",
    "#modified image\n",
    "modified = retrofier.modified_img #last modification made on the image\n",
    "\n",
    "#all image modifications that wasn't undoed\n",
    "modifications = retrofier.last_modifications #list of PIL Image objects"
   ]
  },
  {
   "cell_type": "code",
   "execution_count": 13,
   "metadata": {},
   "outputs": [],
   "source": [
    "#ways to undo modifications made on the image\n",
    "\n",
    "retrofier.apply_all_effects() #some modifications\n",
    "\n",
    "\n",
    "retrofier.undo() #undo last modification \n",
    "\n",
    "retrofier.undo(3) #undo last 3 modifications, if there isn't 3, it resets to the original image\n",
    "\n",
    "retrofier.reset() #resets to the original image"
   ]
  },
  {
   "cell_type": "code",
   "execution_count": 14,
   "metadata": {},
   "outputs": [],
   "source": [
    "#ways to see the modifications made on the image\n",
    "\n",
    "#showing the images\n",
    "\n",
    "retrofier.show() #shows on the screen the last modified image\n",
    "\n",
    "retrofier.show(original=True) #shows on the screen the original image\n",
    "\n",
    "#saving the images\n",
    "\n",
    "retrofier.save(\"modified.png\") #saves the last modified image\n",
    "\n",
    "retrofier.save(\"original.png\", original=True) #saves the original image"
   ]
  }
 ],
 "metadata": {
  "kernelspec": {
   "display_name": "Python 3",
   "language": "python",
   "name": "python3"
  },
  "language_info": {
   "codemirror_mode": {
    "name": "ipython",
    "version": 3
   },
   "file_extension": ".py",
   "mimetype": "text/x-python",
   "name": "python",
   "nbconvert_exporter": "python",
   "pygments_lexer": "ipython3",
   "version": "3.6.9"
  }
 },
 "nbformat": 4,
 "nbformat_minor": 2
}
