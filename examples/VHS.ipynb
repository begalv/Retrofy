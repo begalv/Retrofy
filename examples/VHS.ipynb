{
 "cells": [
  {
   "cell_type": "code",
   "execution_count": null,
   "metadata": {},
   "outputs": [],
   "source": [
    "#import\n",
    "from retrofy import VHS\n",
    "\n",
    "#initialization\n",
    "retrofier = VHS(\"../docs/images/before.jpg\")"
   ]
  },
  {
   "cell_type": "code",
   "execution_count": null,
   "metadata": {},
   "outputs": [],
   "source": [
    "#noise lines\n",
    "\n",
    "#gets a existing black image with noise lines by its id\n",
    "#static method\n",
    "noise_lines_img = VHS.get_noise_lines_by_id(id=1)\n",
    "\n",
    "#generates a black image with random noise lines\n",
    "#static method\n",
    "\"\"\"\n",
    "size: image size (tuple)\n",
    "intensity: noise lines intensity (0-1 float)\n",
    "blur: noise lines blur (0-1 float)\n",
    "bright: noise lines bright (0-1 float)\n",
    "\"\"\"\n",
    "noise_lines_img = VHS.generate_noise_lines(size=(705, 405), intensity=0.4, blur=0.8, bright=0.6) #defaults\n",
    "\n",
    "#apply the noise lines effect\n",
    "\"\"\"\n",
    "intensity: higher means more noise lines on the image's edges (0-1 float)\n",
    "blur: noise lines blur (0-1 float)\n",
    "bright: noise lines bright (0-1 float)\n",
    "img_id: id of a existing image with noise lines (int)\n",
    "inplace: True if the modification will be made on the filter's image attribute (bool)\n",
    "\"\"\"\n",
    "retrofier.apply_noise_lines(intensity=0.4, blur=0.8, bright=0.6, img_id=None, inplace=True) #defaults\n",
    "\n",
    "#OR if you choose not to randomly generate the noise lines\n",
    "#if img_id is passed, the arguments intensity, blur and bright are ignored\n",
    "retrofier.apply_noise_lines(img_id=1) #faster\n",
    "\n",
    "#OR if you choose not to modify inplace\n",
    "#no changes will be made on the filter's image attribute\n",
    "modified_img = retrofier.apply_noise_lines(inplace=False)"
   ]
  },
  {
   "cell_type": "code",
   "execution_count": null,
   "metadata": {},
   "outputs": [],
   "source": [
    "#color glitch\n",
    "\n",
    "#apply the color glitch effect\n",
    "\"\"\"\n",
    "intensity: higher means a higher offset on each RGB channel (0-1 float)\n",
    "crop: True if the resulted image will be croped to not show the RGB channels offset edge (bool)\n",
    "inplace: True if the modification will be made on the filter's image attribute (bool)\n",
    "\"\"\"\n",
    "retrofier.apply_color_glitch(intensity=0.2, crop=True, inplace=True) #defaults\n",
    "\n",
    "#OR if you choose not to modify inplace\n",
    "#no changes will be made on the filter's image attribute\n",
    "modified_img = retrofier.apply_color_glitch(inplace=False)"
   ]
  },
  {
   "cell_type": "code",
   "execution_count": null,
   "metadata": {},
   "outputs": [],
   "source": [
    "#film grain\n",
    "\n",
    "#apply the film grain effect\n",
    "\"\"\"\n",
    "intensity: higher means a higher grain intensity (0-1 float)\n",
    "blur: grain blur (0-1 float)\n",
    "inplace: True if the modification will be made on the filter's image attribute (bool)\n",
    "\"\"\"\n",
    "retrofier.apply_film_grain(intensity=0.4, blur=0.3, inplace=True) #defaults\n",
    "\n",
    "#OR if you choose not to modify inplace\n",
    "#no changes will be made on the filter's image attribute\n",
    "modified_img = retrofier.apply_film_grain(inplace=False)"
   ]
  },
  {
   "cell_type": "code",
   "execution_count": null,
   "metadata": {},
   "outputs": [],
   "source": [
    "#horizontal lines\n",
    "\n",
    "#apply the horizontal lines effect\n",
    "\"\"\"\n",
    "intensity: higher means more pixels between each line (0-1 float)\n",
    "blur: horizontal lines blur (0-1 float)\n",
    "inplace: True if the modification will be made on the filter's image attribute (bool)\n",
    "\"\"\"\n",
    "retrofier.apply_horizontal_lines(intensity=0.4, blur=0.5, inplace=True) #defaults\n",
    "\n",
    "#OR if you choose not to modify inplace\n",
    "#no changes will be made on the filter's image attribute\n",
    "modified_img = retrofier.apply_horizontal_lines(inplace=False)"
   ]
  },
  {
   "cell_type": "code",
   "execution_count": null,
   "metadata": {},
   "outputs": [],
   "source": [
    "#wave warp\n",
    "\n",
    "\"\"\"\n",
    "intensity: higher means a higher warp size (0-1 float)\n",
    "row: image row where the warp is going to be applied (int)\n",
    "inplace: True if the modification will be made on the filter's image attribute (bool)\n",
    "\"\"\"\n",
    "#apply the wave warp effect on a random row on the image\n",
    "retrofier.apply_wave_warp(intensity=0.6, row=None, inplace=True) #defaults\n",
    "\n",
    "#OR if you want to choose the image's row\n",
    "retrofier.apply_wave_warp(row=600) #row must be lesser than the image's height\n",
    "\n",
    "#OR if you choose not to modify inplace\n",
    "#no changes will be made on the filter's image attribute\n",
    "modified_img = retrofier.apply_wave_warp(inplace=False)"
   ]
  },
  {
   "cell_type": "code",
   "execution_count": null,
   "metadata": {},
   "outputs": [],
   "source": [
    "#play text\n",
    "\n",
    "\"\"\"\n",
    "intensity: higher means a higher text font (0-1 float)\n",
    "datetime: date, including hour and minute, to appear on the image (datetime.datetime)\n",
    "hour: hour to appear on the image, if the random one doesn't match with the image's real hour (int)\n",
    "inplace: True if the modification will be made on the filter's image attribute (bool)\n",
    "\"\"\"\n",
    "\n",
    "#apply the play text on the image with a random 80's date and the current hour and minute\n",
    "retrofier.apply_play_text(intensity=0.3, datetime=None, hour=None, inplace=True) #defaults\n",
    "\n",
    "#note that the parameters 'datetime' and 'hour' are excludents\n",
    "\n",
    "#OR apply with a random 80's date, a choosen hour and the current minute\n",
    "retrofier.apply_play_text(hour=16) #hour must be int between 0 and 23\n",
    "\n",
    "#OR apply with a choosen date and time\n",
    "from datetime import datetime\n",
    "retrofier.apply_play_text(datetime=datetime(1980, 1, 1, 16, 23)) #year, month, day, hour, minute\n",
    "\n",
    "#OR if you choose not to modify inplace\n",
    "#no changes will be made on the filter's image attribute\n",
    "modified_img = retrofier.apply_play_text(inplace=False)"
   ]
  },
  {
   "cell_type": "code",
   "execution_count": null,
   "metadata": {},
   "outputs": [],
   "source": [
    "#all VHS effects at once, using default values\n",
    "\n",
    "retrofier.apply_all_effects(inplace=True, play_text=False, wave_warp=False) #defaults\n",
    "\n",
    "#OR if you choose not to modify inplace\n",
    "#no changes will be made on the filter's image attribute\n",
    "modified_img = retrofier.apply_all_effects(inplace=False)\n",
    "\n",
    "#OR if you choose to also apply the play text on the image\n",
    "retrofier.apply_all_effects(play_text=True)\n",
    "\n",
    "#OR if you choose to also apply the wave warp effect on a random row on the image\n",
    "retrofier.apply_all_effects(wave_warp=True)"
   ]
  }
 ],
 "metadata": {
  "kernelspec": {
   "display_name": "Python 3",
   "language": "python",
   "name": "python3"
  },
  "language_info": {
   "codemirror_mode": {
    "name": "ipython",
    "version": 3
   },
   "file_extension": ".py",
   "mimetype": "text/x-python",
   "name": "python",
   "nbconvert_exporter": "python",
   "pygments_lexer": "ipython3",
   "version": "3.6.9"
  }
 },
 "nbformat": 4,
 "nbformat_minor": 2
}
