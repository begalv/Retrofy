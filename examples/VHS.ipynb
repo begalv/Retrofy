{
 "cells": [
  {
   "cell_type": "code",
   "execution_count": null,
   "metadata": {},
   "outputs": [],
   "source": [
    "#import\n",
    "from retrofy import VHS\n",
    "\n",
    "#initialization\n",
    "retrofier = VHS(\"../docs/images/before.jpg\")"
   ]
  },
  {
   "cell_type": "code",
   "execution_count": null,
   "metadata": {},
   "outputs": [],
   "source": [
    "#noise lines\n",
    "\n",
    "#gets a existing black image with noise lines by its id\n",
    "noise_lines_img = VHS.get_noise_lines_by_id(id=1) #static method\n",
    "\n",
    "#generates a black image with random noise lines\n",
    "\"\"\"\n",
    "size: image size (tuple)\n",
    "intensity: noise lines intensity (0-1 float)\n",
    "blur: noise lines blur (0-1 float)\n",
    "bright: noise lines bright (0-1 float)\n",
    "\"\"\"\n",
    "noise_lines_img = VHS.generate_noise_lines(size=(705, 405), intensity=0.4, blur=0.8, bright=0.6) #static method\n",
    "\n",
    "#apply the noise lines effect\n",
    "\"\"\"\n",
    "intensity: noise lines intensity (0-1 float)\n",
    "blur: noise lines blur (0-1 float)\n",
    "bright: noise lines bright (0-1 float)\n",
    "img_id: id of a existing image with noise lines (int)\n",
    "inplace: True if the modification will be made on the filter's image attribute (bool)\n",
    "\"\"\"\n",
    "retrofier.apply_noise_lines(intensity=0.4, blur=0.8, bright=0.6, img_id=None, inplace=True)\n",
    "\n",
    "#if you choose not to randomly generate the noise lines\n",
    "#if img_id is passed, the arguments intensity, blur and bright are ignored\n",
    "retrofier.apply_noise_lines(img_id=1) #faster\n",
    "\n",
    "#if you choose not to modify inplace\n",
    "#no changes will be made on the filter's image attribute\n",
    "modified_img = retrofier.apply_noise_lines(inplace=False)"
   ]
  },
  {
   "cell_type": "code",
   "execution_count": null,
   "metadata": {},
   "outputs": [],
   "source": [
    "#color glitch\n",
    "\n",
    "#apply the color glitch effect\n",
    "\"\"\"\n",
    "intensity: color glitch intensity (0-1 float)\n",
    "crop: True if the resulted image will be croped to not show the RGB channels offset edge (bool)\n",
    "inplace: True if the modification will be made on the filter's image attribute (bool)\n",
    "\"\"\"\n",
    "retrofier.apply_color_glitch(intensity=0.3, crop=True, inplace=True)\n",
    "\n",
    "#if you choose not to modify inplace\n",
    "#no changes will be made on the filter's image attribute\n",
    "modified_img = retrofier.apply_color_glitch(inplace=False)"
   ]
  },
  {
   "cell_type": "code",
   "execution_count": null,
   "metadata": {},
   "outputs": [],
   "source": [
    "#film grain\n",
    "\n",
    "#apply the film grain effect\n",
    "\"\"\"\n",
    "intensity: grain intensity (0-1 float)\n",
    "blur: grain blur (0-1 float)\n",
    "inplace: True if the modification will be made on the filter's image attribute (bool)\n",
    "\"\"\"\n",
    "retrofier.apply_film_grain(intensity=0.5, blur=0.3, inplace=True)\n",
    "\n",
    "#if you choose not to modify inplace\n",
    "#no changes will be made on the filter's image attribute\n",
    "modified_img = retrofier.apply_film_grain(inplace=False)"
   ]
  },
  {
   "cell_type": "code",
   "execution_count": null,
   "metadata": {},
   "outputs": [],
   "source": [
    "#horizontal lines\n",
    "\n",
    "#apply the horizontal lines effect\n",
    "\"\"\"\n",
    "intensity: horizontal lines intensity (0-1 float)\n",
    "blur: horizontal lines blur (0-1 float)\n",
    "inplace: True if the modification will be made on the filter's image attribute (bool)\n",
    "\"\"\"\n",
    "retrofier.apply_horizontal_lines(intensity=0.5, blur=0.5, inplace=True)\n",
    "\n",
    "#if you choose not to modify inplace\n",
    "#no changes will be made on the filter's image attribute\n",
    "modified_img = retrofier.apply_horizontal_lines(inplace=False)"
   ]
  },
  {
   "cell_type": "code",
   "execution_count": null,
   "metadata": {},
   "outputs": [],
   "source": [
    "#all VHS effects at once, using default values\n",
    "\n",
    "retrofier.apply_all_effects(inplace=True)\n",
    "\n",
    "#if you choose not to modify inplace\n",
    "#no changes will be made on the filter's image attribute\n",
    "modified_img = retrofier.apply_all_effects(inplace=False)"
   ]
  }
 ],
 "metadata": {
  "kernelspec": {
   "display_name": "Python 3",
   "language": "python",
   "name": "python3"
  },
  "language_info": {
   "codemirror_mode": {
    "name": "ipython",
    "version": 3
   },
   "file_extension": ".py",
   "mimetype": "text/x-python",
   "name": "python",
   "nbconvert_exporter": "python",
   "pygments_lexer": "ipython3",
   "version": "3.6.9"
  }
 },
 "nbformat": 4,
 "nbformat_minor": 2
}
